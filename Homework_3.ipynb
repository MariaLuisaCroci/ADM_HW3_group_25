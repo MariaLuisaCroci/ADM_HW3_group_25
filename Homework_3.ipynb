{
 "cells": [
  {
   "cell_type": "markdown",
   "metadata": {},
   "source": [
    "#  ADM HW3 Group 25"
   ]
  },
  {
   "cell_type": "markdown",
   "metadata": {},
   "source": [
    "### Libraries"
   ]
  },
  {
   "cell_type": "code",
   "execution_count": 14,
   "metadata": {},
   "outputs": [
    {
     "name": "stdout",
     "output_type": "stream",
     "text": [
      "[nltk_data] Downloading package stopwords to\n",
      "[nltk_data]     C:\\Users\\elena\\AppData\\Roaming\\nltk_data...\n",
      "[nltk_data]   Package stopwords is already up-to-date!\n"
     ]
    }
   ],
   "source": [
    "import csv\n",
    "import pandas as pd\n",
    "import numpy as np\n",
    "import nltk \n",
    "import functions\n",
    "from nltk.corpus import stopwords\n",
    "from nltk.stem import PorterStemmer\n",
    "from nltk import word_tokenize\n",
    "import string\n",
    "from nltk.tokenize import RegexpTokenizer\n",
    "#download the stop words\n",
    "nltk.download(\"stopwords\")\n",
    "import json\n",
    "import math"
   ]
  },
  {
   "cell_type": "code",
   "execution_count": 35,
   "metadata": {},
   "outputs": [
    {
     "name": "stdout",
     "output_type": "stream",
     "text": [
      "[nltk_data] Downloading package stopwords to\n",
      "[nltk_data]     C:\\Users\\elena\\AppData\\Roaming\\nltk_data...\n",
      "[nltk_data]   Package stopwords is already up-to-date!\n"
     ]
    },
    {
     "data": {
      "text/plain": [
       "<module 'functions' from 'C:\\\\Users\\\\elena\\\\Documents\\\\DataScience\\\\ADM_18\\\\HW_3\\\\HW3\\\\functions.py'>"
      ]
     },
     "execution_count": 35,
     "metadata": {},
     "output_type": "execute_result"
    }
   ],
   "source": [
    "from importlib import reload\n",
    "reload(functions)"
   ]
  },
  {
   "cell_type": "markdown",
   "metadata": {},
   "source": [
    "## 1: Upload data \n",
    "## 2: Create documents\n",
    "First mission was to split and write our dataset into tab separated files for each line. To do this we:\n",
    " - create a dataframe with our data\n",
    " - removed new lines (\\n)\n",
    " - transformed df in a list\n",
    " - create a tsv file with \\t tab space for each row from the df1 list"
   ]
  },
  {
   "cell_type": "code",
   "execution_count": 17,
   "metadata": {},
   "outputs": [],
   "source": [
    "#read csv as data frame with pandas\n",
    "df = pd.read_csv(\"data/Airbnb_Texas_Rentals.csv\")\n",
    "\n",
    "#remove \\\\n new line from the description\n",
    "df = df.replace(r'\\\\n', \" \", regex = True)\n",
    "\n",
    "#make the df as list\n",
    "df1 = df.values.tolist()\n",
    "#remove the index from df1\n",
    "\n",
    "#create a tsv file with \\t tab space for each row from the df1 list\n",
    "\n",
    "for row in df1:\n",
    "    with open(\"data/doc_tsv/doc_\" +str(df1.index(row))+ \".tsv\", 'w', newline='',encoding='utf8') as f_output:\n",
    "        tsv_output = csv.writer(f_output, delimiter='\\t',)\n",
    "        tsv_output.writerow(row[1:]) #remove first row with names\n",
    "        \n",
    "for i in df1:\n",
    "    i.remove(i[0])"
   ]
  },
  {
   "cell_type": "markdown",
   "metadata": {},
   "source": [
    "# 3: Search Engine\n",
    "#### All the data frame was preprocessed by\n",
    "\n",
    "1) Removing stop words\n",
    "\n",
    "2) Removing punctuation\n",
    "\n",
    "3) Stemming\n",
    "\n",
    "4) Tokenization\n",
    "\n",
    "To make our computational steps faster we applied the preprocessing only to description and title columns"
   ]
  },
  {
   "cell_type": "code",
   "execution_count": 18,
   "metadata": {},
   "outputs": [],
   "source": [
    "stopwords = stopwords.words('english') # get english stop words\n",
    "#we tokenize except for the symbol $ that remains with the value\n",
    "tokenizer = RegexpTokenizer(\"[\\w'\\$]+\")\n",
    "#stemming\n",
    "st = PorterStemmer()\n",
    "\n",
    "#tokenize description and title\n",
    "df.description = df.description.apply(str).apply(tokenizer.tokenize)\n",
    "df.title = df.title.apply(str).apply(tokenizer.tokenize)\n",
    "\n",
    "#remove stop word and punctuation from description and title\n",
    "df.description = df.description.apply(lambda x : [item for item in x if item not in stopwords])\n",
    "df.title = df.title.apply(lambda x : [item for item in x if item not in stopwords])\n",
    "\n",
    "#remove stemmings from descr and title\n",
    "df.description = df.description.apply(lambda x : [st.stem(y) for y in x])\n",
    "df.title = df.title.apply(lambda x : [st.stem(y) for y in x])"
   ]
  },
  {
   "cell_type": "markdown",
   "metadata": {},
   "source": [
    "\n",
    "## 3.1 Conjunctive query\n",
    "\n",
    "### 3.1.1 Create your index!\n",
    "\n",
    " To create an inverted index, we first split the content field of each document into separate words, create a sorted list of all the unique terms, and the list in which documents each term appears. Before building the index, we created a file named vocabulary, that maps each word to an integer (term_id). Then we created our inverted index.\n",
    "\n",
    "We decide to store vocabulary, index and inverted index into JSON files to let them easily accessible."
   ]
  },
  {
   "cell_type": "code",
   "execution_count": 19,
   "metadata": {},
   "outputs": [],
   "source": [
    "#create the list of all the words\n",
    "voc = []\n",
    "\n",
    "for i in list(df.description):\n",
    "    for j in i:\n",
    "        voc.append(j)\n",
    "for i in list(df.title):\n",
    "    for j in i:\n",
    "        voc.append(j)\n",
    "voc = set(voc) #convert the list to a set of distinct words\n",
    "num = list(voc) #make voc as list\n",
    "vocabulary = {} #create empty dictionary\n",
    "\n",
    "for i in num:\n",
    "    vocabulary.update({num.index(i):i}) # get a key for each value of voc\n",
    "\n",
    "#we save the vocabulary as json file\n",
    "with open(\"vocabulary.json\", \"w\", encoding = \"utf8\") as myfile:\n",
    "    myfile.write(json.dumps(vocabulary))"
   ]
  },
  {
   "cell_type": "markdown",
   "metadata": {},
   "source": [
    "It can be observed the presence of some words in oriental characters (logograms). We decide to not remove them because since we are representing real data, it can not be excluded that the query or the websites are in another language.\n"
   ]
  },
  {
   "cell_type": "code",
   "execution_count": 20,
   "metadata": {},
   "outputs": [],
   "source": [
    "#create dict from df that assign for each rows (doc) all the words in\n",
    "newdict = {}\n",
    "for index, row in df.iterrows():\n",
    "    newdict[\"doc_\" + str(index)] = list(row[\"description\"]) + list(row[\"title\"])"
   ]
  },
  {
   "cell_type": "code",
   "execution_count": 21,
   "metadata": {},
   "outputs": [],
   "source": [
    "with open(\"index.json\", \"w\", encoding = \"utf8\") as myfile:#write normal index to json\n",
    "    myfile.write(json.dumps(newdict))"
   ]
  },
  {
   "cell_type": "code",
   "execution_count": 22,
   "metadata": {},
   "outputs": [],
   "source": [
    "#create inverted index called inverse\n",
    "\n",
    "inverse = dict() \n",
    "for key in newdict: \n",
    "    # Go through the list that is saved in the dict:\n",
    "    for item in set(newdict[key]):\n",
    "        # Check if in the inverted dict the key exists\n",
    "        if item not in inverse: \n",
    "            # If not create a new list\n",
    "            inverse[item] = [key] \n",
    "        else: \n",
    "            inverse[item].append(key) \n"
   ]
  },
  {
   "cell_type": "code",
   "execution_count": 23,
   "metadata": {},
   "outputs": [],
   "source": [
    "# change the keys of inverse with the keys of vocabulary\n",
    "for i in vocabulary:\n",
    "    inverse[i] = inverse[vocabulary[i]]\n",
    "    del inverse[vocabulary[i]]\n",
    "#save inverted index as json\n",
    "with open(\"inverted_index.json\", \"w\", encoding = \"utf8\") as myfile:\n",
    "    myfile.write(json.dumps(inverse))"
   ]
  },
  {
   "cell_type": "markdown",
   "metadata": {},
   "source": [
    "### 3.1.2 Execute the query\n",
    "##### What documents do we want?\n",
    "The final output of the query its return the following information for each of the selected documents:\n",
    "\n",
    "* Title\n",
    "* Description\n",
    "* City\n",
    "* Clickable Url \n",
    "\n",
    "Non-existing queries its generate a warning message: \"result for your query doesn't exist\""
   ]
  },
  {
   "cell_type": "code",
   "execution_count": 26,
   "metadata": {},
   "outputs": [
    {
     "name": "stdout",
     "output_type": "stream",
     "text": [
      "Insert your query: pergola garden\n"
     ]
    },
    {
     "data": {
      "text/html": [
       "<style  type=\"text/css\" >\n",
       "</style>  \n",
       "<table id=\"T_13091ab4_f0fe_11e8_90be_3cf862c2e150\" > \n",
       "<thead>    <tr> \n",
       "        <th class=\"blank level0\" ></th> \n",
       "        <th class=\"col_heading level0 col0\" >Title</th> \n",
       "        <th class=\"col_heading level0 col1\" >Description</th> \n",
       "        <th class=\"col_heading level0 col2\" >City</th> \n",
       "        <th class=\"col_heading level0 col3\" >URL</th> \n",
       "    </tr></thead> \n",
       "<tbody>    <tr> \n",
       "        <th id=\"T_13091ab4_f0fe_11e8_90be_3cf862c2e150level0_row0\" class=\"row_heading level0 row0\" >0</th> \n",
       "        <td id=\"T_13091ab4_f0fe_11e8_90be_3cf862c2e150row0_col0\" class=\"data row0 col0\" >Home Away from Home in Spring, TX</td> \n",
       "        <td id=\"T_13091ab4_f0fe_11e8_90be_3cf862c2e150row0_col1\" class=\"data row0 col1\" >Beautiful 2100 sq. ft house! Three bedroom and TV room. Roomy master bedroom with spacious bathroom. Bathroom has both a shower and garden tub! Back yard has a pergola and gazebo as well as patio furniture!</td> \n",
       "        <td id=\"T_13091ab4_f0fe_11e8_90be_3cf862c2e150row0_col2\" class=\"data row0 col2\" >Spring</td> \n",
       "        <td id=\"T_13091ab4_f0fe_11e8_90be_3cf862c2e150row0_col3\" class=\"data row0 col3\" ><a target=\"_blank\" href=\"https://www.airbnb.com/rooms/1521227?location=Cleveland%2C%20TX\n",
       "\">https://www.airbnb.com/rooms/1521227?location=Cleveland%2C%20TX\n",
       "</a></td> \n",
       "    </tr></tbody> \n",
       "</table> "
      ],
      "text/plain": [
       "<pandas.io.formats.style.Styler at 0x28ca5e84438>"
      ]
     },
     "execution_count": 26,
     "metadata": {},
     "output_type": "execute_result"
    }
   ],
   "source": [
    "# Let's try \"garden pergola\":\n",
    "functions.searchEngine_1()"
   ]
  },
  {
   "cell_type": "code",
   "execution_count": 27,
   "metadata": {},
   "outputs": [
    {
     "name": "stdout",
     "output_type": "stream",
     "text": [
      "Insert your query: 别墅二层独立房间\n"
     ]
    },
    {
     "data": {
      "text/html": [
       "<style  type=\"text/css\" >\n",
       "</style>  \n",
       "<table id=\"T_1fc193c6_f0fe_11e8_94c4_3cf862c2e150\" > \n",
       "<thead>    <tr> \n",
       "        <th class=\"blank level0\" ></th> \n",
       "        <th class=\"col_heading level0 col0\" >Title</th> \n",
       "        <th class=\"col_heading level0 col1\" >Description</th> \n",
       "        <th class=\"col_heading level0 col2\" >City</th> \n",
       "        <th class=\"col_heading level0 col3\" >URL</th> \n",
       "    </tr></thead> \n",
       "<tbody>    <tr> \n",
       "        <th id=\"T_1fc193c6_f0fe_11e8_94c4_3cf862c2e150level0_row0\" class=\"row_heading level0 row0\" >0</th> \n",
       "        <td id=\"T_1fc193c6_f0fe_11e8_94c4_3cf862c2e150row0_col0\" class=\"data row0 col0\" >别墅二层独立房间,二层共3个房间分别出租,二层独立客厅及卫生间</td> \n",
       "        <td id=\"T_1fc193c6_f0fe_11e8_94c4_3cf862c2e150row0_col1\" class=\"data row0 col1\" >别墅位于安全安静的社区,二层为三室一厅一卫,三个房间分别出租,二层全订有额外优惠,床上用品及厨房用品齐全</td> \n",
       "        <td id=\"T_1fc193c6_f0fe_11e8_94c4_3cf862c2e150row0_col2\" class=\"data row0 col2\" >McKinney</td> \n",
       "        <td id=\"T_1fc193c6_f0fe_11e8_94c4_3cf862c2e150row0_col3\" class=\"data row0 col3\" ><a target=\"_blank\" href=\"https://www.airbnb.com/rooms/16961346?location=Allen%2C%20TX\n",
       "\">https://www.airbnb.com/rooms/16961346?location=Allen%2C%20TX\n",
       "</a></td> \n",
       "    </tr>    <tr> \n",
       "        <th id=\"T_1fc193c6_f0fe_11e8_94c4_3cf862c2e150level0_row1\" class=\"row_heading level0 row1\" >1</th> \n",
       "        <td id=\"T_1fc193c6_f0fe_11e8_94c4_3cf862c2e150row1_col0\" class=\"data row1 col0\" >别墅二层独立房间,二层共3个房间分别出租,二层独立客厅及卫生间</td> \n",
       "        <td id=\"T_1fc193c6_f0fe_11e8_94c4_3cf862c2e150row1_col1\" class=\"data row1 col1\" >别墅位于安全安静的社区,二层为三室一厅一卫,三个房间分别出租,二层全订有额外优惠,床上用品及厨房用品齐全</td> \n",
       "        <td id=\"T_1fc193c6_f0fe_11e8_94c4_3cf862c2e150row1_col2\" class=\"data row1 col2\" >McKinney</td> \n",
       "        <td id=\"T_1fc193c6_f0fe_11e8_94c4_3cf862c2e150row1_col3\" class=\"data row1 col3\" ><a target=\"_blank\" href=\"https://www.airbnb.com/rooms/16961346?location=Anna%2C%20TX\n",
       "\">https://www.airbnb.com/rooms/16961346?location=Anna%2C%20TX\n",
       "</a></td> \n",
       "    </tr></tbody> \n",
       "</table> "
      ],
      "text/plain": [
       "<pandas.io.formats.style.Styler at 0x28ca7efa9b0>"
      ]
     },
     "execution_count": 27,
     "metadata": {},
     "output_type": "execute_result"
    }
   ],
   "source": [
    "# As we have already said at the beginning, our query with no english words can produces a result.\n",
    "# es 别墅二层独立房间 as input\n",
    "functions.searchEngine_1()"
   ]
  },
  {
   "cell_type": "code",
   "execution_count": 28,
   "metadata": {},
   "outputs": [
    {
     "name": "stdout",
     "output_type": "stream",
     "text": [
      "Insert your query: jdksdfjnrf\n",
      "There are no results that match your query.\n"
     ]
    }
   ],
   "source": [
    "# check for a non-existent word as \"abcdefg\"\n",
    "functions.searchEngine_1()"
   ]
  },
  {
   "cell_type": "markdown",
   "metadata": {},
   "source": [
    "## 3.2 Conjunctive query & Ranking score\n",
    "\n",
    "### 3.2.1 Inverted index\n"
   ]
  },
  {
   "cell_type": "code",
   "execution_count": 29,
   "metadata": {},
   "outputs": [],
   "source": [
    "vocablist = [x for x in vocabulary.keys()] #list of words\n",
    "corpus = json.loads(open('index.json').read())\n",
    "inverted_index = json.loads(open('inverted_index.json').read())\n",
    "vocab = json.loads(open('vocabulary.json').read())\n"
   ]
  },
  {
   "cell_type": "markdown",
   "metadata": {},
   "source": [
    "What we need now is to calculate che IDF and TF - IDF, according to the formulas: \n",
    "- $TF = \\frac{N_{(x,y)}}{N_{(*,y)}}$\n",
    "- $IDF = log[1 + (\\frac{D}{D_x})]$ <fr>\n",
    "\n",
    "Where:\n",
    "- $N_{(x,y)}$ is the number of times that the word $X$ is in the document $D_y$;\n",
    "- $N_{(*,y)}$ is the total number of the words in the document;\n",
    "- $D$ is the total number of documents;\n",
    "- $D_x$ is the number of documents in which the word $X$ appears at least once."
   ]
  },
  {
   "cell_type": "code",
   "execution_count": 30,
   "metadata": {},
   "outputs": [],
   "source": [
    "# calculate the IDF\n",
    "idf = {}\n",
    "for term in inverted_index:\n",
    "    term1 = vocab[term]\n",
    "    idf[term] = math.log(1+(len(corpus)/len(term1)))\n",
    "with open(\"idf_index.json\", \"w\", encoding = \"utf8\") as myfile:\n",
    "    myfile.write(json.dumps(inverted_index))"
   ]
  },
  {
   "cell_type": "code",
   "execution_count": 31,
   "metadata": {},
   "outputs": [],
   "source": [
    "#calculate the TF - IDF\n",
    "for term in inverted_index:\n",
    "    term1 = vocab[term]\n",
    "    for doc in inverted_index[term]:\n",
    "        count = (corpus[doc].count(term1)/len(corpus[doc]))*idf[term]\n",
    "        inverted_index[term][inverted_index[term].index(doc)]=(doc,count)\n",
    "        \n",
    "with open(\"tfidf_index.json\", \"w\", encoding = \"utf8\") as myfile:\n",
    "    myfile.write(json.dumps(inverted_index))\n",
    "    "
   ]
  },
  {
   "cell_type": "markdown",
   "metadata": {},
   "source": [
    "### 3.2.2 Execute the query - Cosine Similarity\n"
   ]
  },
  {
   "cell_type": "code",
   "execution_count": 33,
   "metadata": {},
   "outputs": [
    {
     "name": "stdout",
     "output_type": "stream",
     "text": [
      "Insert your query: dog garden \n",
      "How many results do you want to see? 5\n"
     ]
    },
    {
     "data": {
      "text/html": [
       "<style  type=\"text/css\" >\n",
       "</style>  \n",
       "<table id=\"T_50cc318c_f0fe_11e8_b418_3cf862c2e150\" > \n",
       "<thead>    <tr> \n",
       "        <th class=\"blank level0\" ></th> \n",
       "        <th class=\"col_heading level0 col0\" >Title</th> \n",
       "        <th class=\"col_heading level0 col1\" >Description</th> \n",
       "        <th class=\"col_heading level0 col2\" >City</th> \n",
       "        <th class=\"col_heading level0 col3\" >URL</th> \n",
       "        <th class=\"col_heading level0 col4\" >Similarity</th> \n",
       "    </tr></thead> \n",
       "<tbody>    <tr> \n",
       "        <th id=\"T_50cc318c_f0fe_11e8_b418_3cf862c2e150level0_row0\" class=\"row_heading level0 row0\" >0</th> \n",
       "        <td id=\"T_50cc318c_f0fe_11e8_b418_3cf862c2e150row0_col0\" class=\"data row0 col0\" >Ravenshire-LLC Retreat -- Mi Casa es tu Casa</td> \n",
       "        <td id=\"T_50cc318c_f0fe_11e8_b418_3cf862c2e150row0_col1\" class=\"data row0 col1\" >Perfect for ACU events: WALK to Summit, Homecoming, Sing Song, and Graduation!  Close to Hendrick Hospital &amp; Dyess. Perfect for Professionals, Traveling Nurses, Writers, &amp; their FAMILIES. ALL amenities are provided: Housekeeper, Gardener, Property Manager. Complete turn-key living. Good place for kids and pets (dogs). See Ravenshire-LLC for more information.</td> \n",
       "        <td id=\"T_50cc318c_f0fe_11e8_b418_3cf862c2e150row0_col2\" class=\"data row0 col2\" >Abilene</td> \n",
       "        <td id=\"T_50cc318c_f0fe_11e8_b418_3cf862c2e150row0_col3\" class=\"data row0 col3\" ><a target=\"_blank\" href=\"https://www.airbnb.com/rooms/15420018?location=Cisco%2C%20TX\n",
       "\">https://www.airbnb.com/rooms/15420018?location=Cisco%2C%20TX\n",
       "</a></td> \n",
       "        <td id=\"T_50cc318c_f0fe_11e8_b418_3cf862c2e150row0_col4\" class=\"data row0 col4\" >0.444241</td> \n",
       "    </tr>    <tr> \n",
       "        <th id=\"T_50cc318c_f0fe_11e8_b418_3cf862c2e150level0_row1\" class=\"row_heading level0 row1\" >1</th> \n",
       "        <td id=\"T_50cc318c_f0fe_11e8_b418_3cf862c2e150row1_col0\" class=\"data row1 col0\" >Pool Cabana in Historic Country Setting</td> \n",
       "        <td id=\"T_50cc318c_f0fe_11e8_b418_3cf862c2e150row1_col1\" class=\"data row1 col1\" >This cozy cottage sits on a beautiful acre nestled under a canopy of large hardwoods. The property backs up to the city park, sporting a walking trail, tennis court, dog park, playgrounds, and the meandering 10-mile Creek. Staying in Historic Lancaster is like stepping back into tiime. The shady sidewalk takes you to the town square, train depot and rose garden. Nature preserves, groceries, and restaurants are 5 minutes away. It is 25 minutes from Dallas and 10 minutes from I 35, I 20, &amp; I 45.</td> \n",
       "        <td id=\"T_50cc318c_f0fe_11e8_b418_3cf862c2e150row1_col2\" class=\"data row1 col2\" >Lancaster</td> \n",
       "        <td id=\"T_50cc318c_f0fe_11e8_b418_3cf862c2e150row1_col3\" class=\"data row1 col3\" ><a target=\"_blank\" href=\"https://www.airbnb.com/rooms/16644591?location=Corsicana%2C%20TX\n",
       "\">https://www.airbnb.com/rooms/16644591?location=Corsicana%2C%20TX\n",
       "</a></td> \n",
       "        <td id=\"T_50cc318c_f0fe_11e8_b418_3cf862c2e150row1_col4\" class=\"data row1 col4\" >0.444241</td> \n",
       "    </tr>    <tr> \n",
       "        <th id=\"T_50cc318c_f0fe_11e8_b418_3cf862c2e150level0_row2\" class=\"row_heading level0 row2\" >2</th> \n",
       "        <td id=\"T_50cc318c_f0fe_11e8_b418_3cf862c2e150row2_col0\" class=\"data row2 col0\" >Quiet Study with Private Entrance</td> \n",
       "        <td id=\"T_50cc318c_f0fe_11e8_b418_3cf862c2e150row2_col1\" class=\"data row2 col1\" >This personal study sits on a beautiful acre nestled under a canopy of large hardwoods. The property backs up to the city park, sporting a walking trail, tennis court, dog park, playgrounds, and the meandering 10-mile Creek. Staying in Historic Lancaster is like stepping back into tiime. The shady sidewalk takes you to the town square, train depot and rose garden. Nature preserves, groceries, and restaurants are 5 minutes away. It is 25 minutes from Dallas &amp; 10 minutes from I 35, I 20, &amp; I 45.</td> \n",
       "        <td id=\"T_50cc318c_f0fe_11e8_b418_3cf862c2e150row2_col2\" class=\"data row2 col2\" >Lancaster</td> \n",
       "        <td id=\"T_50cc318c_f0fe_11e8_b418_3cf862c2e150row2_col3\" class=\"data row2 col3\" ><a target=\"_blank\" href=\"https://www.airbnb.com/rooms/16646198?location=Corsicana%2C%20TX\n",
       "\">https://www.airbnb.com/rooms/16646198?location=Corsicana%2C%20TX\n",
       "</a></td> \n",
       "        <td id=\"T_50cc318c_f0fe_11e8_b418_3cf862c2e150row2_col4\" class=\"data row2 col4\" >0.444241</td> \n",
       "    </tr>    <tr> \n",
       "        <th id=\"T_50cc318c_f0fe_11e8_b418_3cf862c2e150level0_row3\" class=\"row_heading level0 row3\" >3</th> \n",
       "        <td id=\"T_50cc318c_f0fe_11e8_b418_3cf862c2e150row3_col0\" class=\"data row3 col0\" >Ravenshire-LLC Retreat -- Mi Casa es tu Casa</td> \n",
       "        <td id=\"T_50cc318c_f0fe_11e8_b418_3cf862c2e150row3_col1\" class=\"data row3 col1\" >Perfect for ACU events: WALK to Summit, Homecoming, Sing Song, and Graduation!  Close to Hendrick Hospital &amp; Dyess. Perfect for Professionals, Traveling Nurses, Writers, &amp; their FAMILIES. ALL amenities are provided: Housekeeper, Gardener, Property Manager. Complete turn-key living. Good place for kids and pets (dogs). See Ravenshire-LLC for more information.</td> \n",
       "        <td id=\"T_50cc318c_f0fe_11e8_b418_3cf862c2e150row3_col2\" class=\"data row3 col2\" >Abilene</td> \n",
       "        <td id=\"T_50cc318c_f0fe_11e8_b418_3cf862c2e150row3_col3\" class=\"data row3 col3\" ><a target=\"_blank\" href=\"https://www.airbnb.com/rooms/15420018?location=Abilene%2C%20TX\n",
       "\">https://www.airbnb.com/rooms/15420018?location=Abilene%2C%20TX\n",
       "</a></td> \n",
       "        <td id=\"T_50cc318c_f0fe_11e8_b418_3cf862c2e150row3_col4\" class=\"data row3 col4\" >0.444241</td> \n",
       "    </tr>    <tr> \n",
       "        <th id=\"T_50cc318c_f0fe_11e8_b418_3cf862c2e150level0_row4\" class=\"row_heading level0 row4\" >4</th> \n",
       "        <td id=\"T_50cc318c_f0fe_11e8_b418_3cf862c2e150row4_col0\" class=\"data row4 col0\" > Maison d'Etre</td> \n",
       "        <td id=\"T_50cc318c_f0fe_11e8_b418_3cf862c2e150row4_col1\" class=\"data row4 col1\" >Perfect ACL, F1, SXSW location! A colorful strawbale constructed home minutes from downtown Austin is nestled on two acres with chickens, ornamental pond, rooftop terrace, porches, parking, gardens, a big dog, and honeybees.  Come In, We're Awesome!</td> \n",
       "        <td id=\"T_50cc318c_f0fe_11e8_b418_3cf862c2e150row4_col2\" class=\"data row4 col2\" >Austin</td> \n",
       "        <td id=\"T_50cc318c_f0fe_11e8_b418_3cf862c2e150row4_col3\" class=\"data row4 col3\" ><a target=\"_blank\" href=\"https://www.airbnb.com/rooms/5037508?location=Bee%20Cave%2C%20TX\n",
       "\">https://www.airbnb.com/rooms/5037508?location=Bee%20Cave%2C%20TX\n",
       "</a></td> \n",
       "        <td id=\"T_50cc318c_f0fe_11e8_b418_3cf862c2e150row4_col4\" class=\"data row4 col4\" >0.444241</td> \n",
       "    </tr></tbody> \n",
       "</table> "
      ],
      "text/plain": [
       "<pandas.io.formats.style.Styler at 0x28ca2c472b0>"
      ]
     },
     "execution_count": 33,
     "metadata": {},
     "output_type": "execute_result"
    }
   ],
   "source": [
    "functions.searchEngine_2()"
   ]
  },
  {
   "cell_type": "markdown",
   "metadata": {},
   "source": [
    "# 4. Define a new score!"
   ]
  },
  {
   "cell_type": "code",
   "execution_count": 36,
   "metadata": {},
   "outputs": [
    {
     "data": {
      "text/html": [
       "<div>\n",
       "<style scoped>\n",
       "    .dataframe tbody tr th:only-of-type {\n",
       "        vertical-align: middle;\n",
       "    }\n",
       "\n",
       "    .dataframe tbody tr th {\n",
       "        vertical-align: top;\n",
       "    }\n",
       "\n",
       "    .dataframe thead th {\n",
       "        text-align: right;\n",
       "    }\n",
       "</style>\n",
       "<table border=\"1\" class=\"dataframe\">\n",
       "  <thead>\n",
       "    <tr style=\"text-align: right;\">\n",
       "      <th></th>\n",
       "      <th>Unnamed: 0</th>\n",
       "      <th>average_rate_per_night</th>\n",
       "      <th>bedrooms_count</th>\n",
       "      <th>city</th>\n",
       "      <th>date_of_listing</th>\n",
       "      <th>description</th>\n",
       "      <th>latitude</th>\n",
       "      <th>longitude</th>\n",
       "      <th>title</th>\n",
       "      <th>url</th>\n",
       "      <th>price</th>\n",
       "      <th>bedroom</th>\n",
       "      <th>price_score</th>\n",
       "      <th>bed_score</th>\n",
       "      <th>city_score</th>\n",
       "    </tr>\n",
       "  </thead>\n",
       "  <tbody>\n",
       "    <tr>\n",
       "      <th>0</th>\n",
       "      <td>1</td>\n",
       "      <td>$27</td>\n",
       "      <td>2</td>\n",
       "      <td>Humble</td>\n",
       "      <td>May 2016</td>\n",
       "      <td>[welcom, stay, privat, room, queen, bed, detac...</td>\n",
       "      <td>30.020138</td>\n",
       "      <td>-95.293996</td>\n",
       "      <td>[2, privat, room, bathroom, 10min, iah, airport]</td>\n",
       "      <td>https://www.airbnb.com/rooms/18520444?location...</td>\n",
       "      <td>27</td>\n",
       "      <td>2</td>\n",
       "      <td>0.9973</td>\n",
       "      <td>0.153846</td>\n",
       "      <td>1.00</td>\n",
       "    </tr>\n",
       "    <tr>\n",
       "      <th>1</th>\n",
       "      <td>54</td>\n",
       "      <td>$100</td>\n",
       "      <td>2</td>\n",
       "      <td>Humble</td>\n",
       "      <td>January 2016</td>\n",
       "      <td>[My, home, built, 2016, 5, min, airport, quiet...</td>\n",
       "      <td>30.019380</td>\n",
       "      <td>-95.308188</td>\n",
       "      <td>[cozi, second, floor, minut, iah]</td>\n",
       "      <td>https://www.airbnb.com/rooms/16925131?location...</td>\n",
       "      <td>100</td>\n",
       "      <td>2</td>\n",
       "      <td>0.9900</td>\n",
       "      <td>0.153846</td>\n",
       "      <td>1.00</td>\n",
       "    </tr>\n",
       "    <tr>\n",
       "      <th>2</th>\n",
       "      <td>56</td>\n",
       "      <td>$81</td>\n",
       "      <td>3</td>\n",
       "      <td>Humble</td>\n",
       "      <td>January 2017</td>\n",
       "      <td>[entir, 3, bedroom, 2, full, bath, home, quiet...</td>\n",
       "      <td>30.000943</td>\n",
       "      <td>-95.258168</td>\n",
       "      <td>[entir, home, 5, mile, from, iah, block, hwi, ...</td>\n",
       "      <td>https://www.airbnb.com/rooms/17006337?location...</td>\n",
       "      <td>81</td>\n",
       "      <td>3</td>\n",
       "      <td>0.9919</td>\n",
       "      <td>0.230769</td>\n",
       "      <td>1.00</td>\n",
       "    </tr>\n",
       "    <tr>\n",
       "      <th>3</th>\n",
       "      <td>92</td>\n",
       "      <td>$200</td>\n",
       "      <td>4</td>\n",
       "      <td>Humble</td>\n",
       "      <td>November 2014</td>\n",
       "      <td>[4, bedroom, 1, live, room, 1, studi, room, 3,...</td>\n",
       "      <td>29.929538</td>\n",
       "      <td>-95.250962</td>\n",
       "      <td>[2, stori, home, bush, int'l, airport]</td>\n",
       "      <td>https://www.airbnb.com/rooms/4520039?location=...</td>\n",
       "      <td>200</td>\n",
       "      <td>4</td>\n",
       "      <td>0.9800</td>\n",
       "      <td>0.307692</td>\n",
       "      <td>0.75</td>\n",
       "    </tr>\n",
       "    <tr>\n",
       "      <th>4</th>\n",
       "      <td>135</td>\n",
       "      <td>$175</td>\n",
       "      <td>3</td>\n",
       "      <td>Humble</td>\n",
       "      <td>February 2016</td>\n",
       "      <td>[3, bedroom, 2, 5, bathroom, custom, builder, ...</td>\n",
       "      <td>29.986569</td>\n",
       "      <td>-95.228184</td>\n",
       "      <td>[singl, stori, golf, cours, home, 15, minut, iah]</td>\n",
       "      <td>https://www.airbnb.com/rooms/16496167?location...</td>\n",
       "      <td>175</td>\n",
       "      <td>3</td>\n",
       "      <td>0.9825</td>\n",
       "      <td>0.230769</td>\n",
       "      <td>0.75</td>\n",
       "    </tr>\n",
       "  </tbody>\n",
       "</table>\n",
       "</div>"
      ],
      "text/plain": [
       "   Unnamed: 0 average_rate_per_night bedrooms_count    city date_of_listing  \\\n",
       "0           1                    $27              2  Humble        May 2016   \n",
       "1          54                   $100              2  Humble    January 2016   \n",
       "2          56                    $81              3  Humble    January 2017   \n",
       "3          92                   $200              4  Humble   November 2014   \n",
       "4         135                   $175              3  Humble   February 2016   \n",
       "\n",
       "                                         description   latitude  longitude  \\\n",
       "0  [welcom, stay, privat, room, queen, bed, detac...  30.020138 -95.293996   \n",
       "1  [My, home, built, 2016, 5, min, airport, quiet...  30.019380 -95.308188   \n",
       "2  [entir, 3, bedroom, 2, full, bath, home, quiet...  30.000943 -95.258168   \n",
       "3  [4, bedroom, 1, live, room, 1, studi, room, 3,...  29.929538 -95.250962   \n",
       "4  [3, bedroom, 2, 5, bathroom, custom, builder, ...  29.986569 -95.228184   \n",
       "\n",
       "                                               title  \\\n",
       "0   [2, privat, room, bathroom, 10min, iah, airport]   \n",
       "1                  [cozi, second, floor, minut, iah]   \n",
       "2  [entir, home, 5, mile, from, iah, block, hwi, ...   \n",
       "3             [2, stori, home, bush, int'l, airport]   \n",
       "4  [singl, stori, golf, cours, home, 15, minut, iah]   \n",
       "\n",
       "                                                 url  price  bedroom  \\\n",
       "0  https://www.airbnb.com/rooms/18520444?location...     27        2   \n",
       "1  https://www.airbnb.com/rooms/16925131?location...    100        2   \n",
       "2  https://www.airbnb.com/rooms/17006337?location...     81        3   \n",
       "3  https://www.airbnb.com/rooms/4520039?location=...    200        4   \n",
       "4  https://www.airbnb.com/rooms/16496167?location...    175        3   \n",
       "\n",
       "   price_score  bed_score  city_score  \n",
       "0       0.9973   0.153846        1.00  \n",
       "1       0.9900   0.153846        1.00  \n",
       "2       0.9919   0.230769        1.00  \n",
       "3       0.9800   0.307692        0.75  \n",
       "4       0.9825   0.230769        0.75  "
      ]
     },
     "execution_count": 36,
     "metadata": {},
     "output_type": "execute_result"
    }
   ],
   "source": [
    "df[\"price\"] = df[\"average_rate_per_night\"].replace({'\\$':''}, regex = True)\n",
    "df[\"price\"] = df[\"price\"].replace(np.nan, '0', regex=True)\n",
    "\n",
    "df.price = df.price.astype(\"int\") #make the price as int\n",
    "\n",
    "\n",
    "df[\"bedroom\"] = df[\"bedrooms_count\"].replace({'Studio':'1'}, regex=True)\n",
    "df[\"bedroom\"] = df[\"bedroom\"].replace(np.nan, '0', regex=True)\n",
    "df.bedroom = df.bedroom.astype(\"int\")\n",
    "\n",
    "df[\"price_score\"] = abs((df[\"price\"] - df[\"price\"].max() )/(df[\"price\"].max() - df[\"price\"].min()) )\n",
    "df[\"bed_score\"] = (df[\"bedroom\"] - df[\"bedroom\"].min() )/(df[\"bedroom\"].max() - df[\"bedroom\"].min())\n",
    "\n",
    "df[\"av_score\"] = (df[\"price_score\"] + df[\"bed_score\"])/2\n",
    "\n",
    "av_price_city = df.groupby(\"city\")[\"price\"].agg(['mean','count','max','min'])\n",
    "\n",
    "av_price_city[\"min_int\"] = (av_price_city[\"mean\"] - av_price_city[\"min\"])/3\n",
    "av_price_city[\"max_int\"] = (av_price_city[\"max\"] - av_price_city[\"mean\"])/3\n",
    "\n",
    "newdf = pd.merge(df, av_price_city, on=\"city\")\n",
    "\n",
    "newdf['city_score'] = newdf.apply(functions.city_score, axis=1)\n",
    "\n",
    "newdf[\"city_score\"] = (newdf[\"city_score\"] - newdf[\"city_score\"].min() )/(newdf[\"city_score\"].max() - newdf[\"city_score\"].min())\n",
    "\n",
    "newdf.loc[newdf['count'] < 5, 'city_score'] = 0.5 \n",
    "\n",
    "newdf=newdf.drop(['mean','count','max','min','min_int','max_int', \"av_score\"],axis=1)\n",
    "\n",
    "newdf.head()"
   ]
  },
  {
   "cell_type": "code",
   "execution_count": 37,
   "metadata": {},
   "outputs": [],
   "source": [
    "newdf[\"new_score\"] = (newdf[\"price_score\"] + newdf[\"bed_score\"] + newdf[\"city_score\"])/3\n",
    "\n",
    "newdf.head()\n",
    "\n",
    "scores = pd.DataFrame(columns = [\"doc\", \"av_score\"])\n",
    "\n",
    "scores[\"doc\"] = newdf.index\n",
    "\n",
    "scores[\"av_score\"]=newdf.new_score\n",
    "\n",
    "\n",
    "\n",
    "newlist=scores.values.tolist()\n",
    "\n",
    "scores_dict = {}\n",
    "\n",
    "for i in newlist:\n",
    "    scores_dict[\"doc_\"+str(int(i[0]))]=i[1]\n",
    "with open(\"scores_dict.json\", \"w\", encoding = \"utf8\") as myfile:\n",
    "    myfile.write(json.dumps(scores_dict))"
   ]
  },
  {
   "cell_type": "code",
   "execution_count": 38,
   "metadata": {},
   "outputs": [
    {
     "name": "stdout",
     "output_type": "stream",
     "text": [
      "Insert your query: pergola\n",
      "please enter the filters you want separated by space or leave blank:\n",
      "type\n",
      "1 for city\n",
      "2 for bedrooms\n",
      "3 for price\n",
      "1 2\n",
      "Type the name of a city: San Antonio\n",
      "Type the minimun and maximum number of bedroom separeted by space: 2 8\n"
     ]
    },
    {
     "data": {
      "text/html": [
       "<style  type=\"text/css\" >\n",
       "</style>  \n",
       "<table id=\"T_baac72e8_f0fe_11e8_9e82_3cf862c2e150\" > \n",
       "<thead>    <tr> \n",
       "        <th class=\"blank level0\" ></th> \n",
       "        <th class=\"col_heading level0 col0\" >Ranking</th> \n",
       "        <th class=\"col_heading level0 col1\" >Title</th> \n",
       "        <th class=\"col_heading level0 col2\" >Description</th> \n",
       "        <th class=\"col_heading level0 col3\" >City</th> \n",
       "        <th class=\"col_heading level0 col4\" >URL</th> \n",
       "    </tr></thead> \n",
       "<tbody>    <tr> \n",
       "        <th id=\"T_baac72e8_f0fe_11e8_9e82_3cf862c2e150level0_row0\" class=\"row_heading level0 row0\" >1</th> \n",
       "        <td id=\"T_baac72e8_f0fe_11e8_9e82_3cf862c2e150row0_col0\" class=\"data row0 col0\" >1</td> \n",
       "        <td id=\"T_baac72e8_f0fe_11e8_9e82_3cf862c2e150row0_col1\" class=\"data row0 col1\" >2,850 SF Cozy Home with a Private Pool</td> \n",
       "        <td id=\"T_baac72e8_f0fe_11e8_9e82_3cf862c2e150row0_col2\" class=\"data row0 col2\" >2,850 home on a quarter acre with solar heated pool. The home has 5 plus a loft with King size bed. There is a total of 7 beds and one sofa sleeper, so everyone can have their own bed and sleep well. The backyard has extensive landscaping and a huge gorgeous oak tree. The back patio is covered by a pergola covered in vines keeping it 15 degrees cooler. The backyard has a 6 foot fence and is ideal for pets. There is a dog park nearby.</td> \n",
       "        <td id=\"T_baac72e8_f0fe_11e8_9e82_3cf862c2e150row0_col3\" class=\"data row0 col3\" >San Antonio</td> \n",
       "        <td id=\"T_baac72e8_f0fe_11e8_9e82_3cf862c2e150row0_col4\" class=\"data row0 col4\" ><a target=\"_blank\" href=\"https://www.airbnb.com/rooms/18774498?location=Castroville%2C%20TX\n",
       "\">https://www.airbnb.com/rooms/18774498?location=Castroville%2C%20TX\n",
       "</a></td> \n",
       "    </tr>    <tr> \n",
       "        <th id=\"T_baac72e8_f0fe_11e8_9e82_3cf862c2e150level0_row1\" class=\"row_heading level0 row1\" >2</th> \n",
       "        <td id=\"T_baac72e8_f0fe_11e8_9e82_3cf862c2e150row1_col0\" class=\"data row1 col0\" >2</td> \n",
       "        <td id=\"T_baac72e8_f0fe_11e8_9e82_3cf862c2e150row1_col1\" class=\"data row1 col1\" >Modern Comfort and Entertainment</td> \n",
       "        <td id=\"T_baac72e8_f0fe_11e8_9e82_3cf862c2e150row1_col2\" class=\"data row1 col2\" >Location is key with this stunning 4 bed / 2.5 bath well-maintained home located in the highly desirable neighborhood of Bulverde Village.   Like to entertain when in S.A.? There is a huge patio with special yard lighting, pergola and bbq pit.    Location is five minutes away from The Village Shopping Center at Stone Oak with an Alamo Drafthouse Cinema, multiple shops, and restaurants near by. Additionally, Walmart, Costco, HEB, a few malls and the international airport only 15 minutes away.</td> \n",
       "        <td id=\"T_baac72e8_f0fe_11e8_9e82_3cf862c2e150row1_col3\" class=\"data row1 col3\" >San Antonio</td> \n",
       "        <td id=\"T_baac72e8_f0fe_11e8_9e82_3cf862c2e150row1_col4\" class=\"data row1 col4\" ><a target=\"_blank\" href=\"https://www.airbnb.com/rooms/19114219?location=Cibolo%2C%20TX\n",
       "\">https://www.airbnb.com/rooms/19114219?location=Cibolo%2C%20TX\n",
       "</a></td> \n",
       "    </tr>    <tr> \n",
       "        <th id=\"T_baac72e8_f0fe_11e8_9e82_3cf862c2e150level0_row2\" class=\"row_heading level0 row2\" >3</th> \n",
       "        <td id=\"T_baac72e8_f0fe_11e8_9e82_3cf862c2e150row2_col0\" class=\"data row2 col0\" >3</td> \n",
       "        <td id=\"T_baac72e8_f0fe_11e8_9e82_3cf862c2e150row2_col1\" class=\"data row2 col1\" >Modern Comfort and Entertainment</td> \n",
       "        <td id=\"T_baac72e8_f0fe_11e8_9e82_3cf862c2e150row2_col2\" class=\"data row2 col2\" >Location is key with this stunning 4 bed / 2.5 bath well-maintained home located in the highly desirable neighborhood of Bulverde Village.   Like to entertain when in S.A.? There is a huge patio with special yard lighting, pergola and bbq pit.    Location is five minutes away from The Village Shopping Center at Stone Oak with an Alamo Drafthouse Cinema, multiple shops, and restaurants near by. Additionally, Walmart, Costco, HEB, a few malls and the international airport only 15 minutes away.</td> \n",
       "        <td id=\"T_baac72e8_f0fe_11e8_9e82_3cf862c2e150row2_col3\" class=\"data row2 col3\" >San Antonio</td> \n",
       "        <td id=\"T_baac72e8_f0fe_11e8_9e82_3cf862c2e150row2_col4\" class=\"data row2 col4\" ><a target=\"_blank\" href=\"https://www.airbnb.com/rooms/19114219?location=Bulverde%2C%20TX\n",
       "\">https://www.airbnb.com/rooms/19114219?location=Bulverde%2C%20TX\n",
       "</a></td> \n",
       "    </tr></tbody> \n",
       "</table> "
      ],
      "text/plain": [
       "<pandas.io.formats.style.Styler at 0x28cabe2f6d8>"
      ]
     },
     "execution_count": 38,
     "metadata": {},
     "output_type": "execute_result"
    }
   ],
   "source": [
    "functions.searchEngine_3()"
   ]
  },
  {
   "cell_type": "markdown",
   "metadata": {},
   "source": [
    "##  FOR BONUS STEP LOOK AT MAPS.IPYNB"
   ]
  }
 ],
 "metadata": {
  "kernelspec": {
   "display_name": "Python 3",
   "language": "python",
   "name": "python3"
  },
  "language_info": {
   "codemirror_mode": {
    "name": "ipython",
    "version": 3
   },
   "file_extension": ".py",
   "mimetype": "text/x-python",
   "name": "python",
   "nbconvert_exporter": "python",
   "pygments_lexer": "ipython3",
   "version": "3.5.6"
  }
 },
 "nbformat": 4,
 "nbformat_minor": 2
}
