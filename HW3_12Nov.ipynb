{
 "cells": [
  {
   "cell_type": "markdown",
   "metadata": {},
   "source": [
    "# step 2: create a file doc for each row"
   ]
  },
  {
   "cell_type": "code",
   "execution_count": 4,
   "metadata": {},
   "outputs": [],
   "source": [
    "import csv\n",
    "\n",
    "with open(\"/Users/milpro/Desktop/Universita/ADM_Aris/HW3/doc_tsv/Airbnb_Texas_Rentals.csv\", 'r', encoding = \"utf8\") as f:\n",
    "    with open(\"/Users/milpro/Desktop/Universita/ADM_Aris/HW3/doc_tsv/updated_test.csv\",'w', encoding = \"utf8\") as f1:\n",
    "        next(f) # skip first row\n",
    "        for line in f:\n",
    "            f1.write(line)\n"
   ]
  },
  {
   "cell_type": "code",
   "execution_count": 5,
   "metadata": {},
   "outputs": [],
   "source": [
    "with open(\"/Users/milpro/Desktop/Universita/ADM_Aris/HW3/doc_tsv/updated_test.csv\", 'r', encoding = \"utf8\") as csvfile: \n",
    "    #opening the original file\n",
    "    csv_reader = csv.reader(csvfile)\n",
    "    \n",
    "    with open(\"/Users/milpro/Desktop/Universita/ADM_Aris/HW3/doc_tsv/Airbnb_Texas_Rentals.tsv\", 'w', encoding = \"utf8\") as tsvfile: \n",
    "        #opening a new file for writing called newfile \n",
    "        csv_writer = csv.writer(tsvfile, delimiter = '\\t')\n",
    "    \n",
    "        for line in csv_reader:\n",
    "            csv_writer.writerow(line[1:])\n",
    "        "
   ]
  },
  {
   "cell_type": "code",
   "execution_count": 7,
   "metadata": {},
   "outputs": [],
   "source": [
    "with open(\"/Users/milpro/Desktop/Universita/ADM_Aris/HW3/doc_tsv/Airbnb_Texas_Rentals.tsv\", encoding = \"utf8\") as file:\n",
    "    for i, line in enumerate(file):\n",
    "        with open(\"doc_{}.tsv\".format(str(i+1)), \"w\", ) as doc:\n",
    "            doc.write(line)"
   ]
  },
  {
   "cell_type": "markdown",
   "metadata": {},
   "source": [
    "# step 3"
   ]
  },
  {
   "cell_type": "markdown",
   "metadata": {},
   "source": [
    "## - removing stopwords and punctuation"
   ]
  },
  {
   "cell_type": "code",
   "execution_count": 3,
   "metadata": {},
   "outputs": [],
   "source": [
    "import nltk \n",
    "from nltk.corpus import stopwords\n",
    "from nltk import word_tokenize\n",
    "import string\n"
   ]
  },
  {
   "cell_type": "code",
   "execution_count": 5,
   "metadata": {},
   "outputs": [
    {
     "name": "stdout",
     "output_type": "stream",
     "text": [
      "[nltk_data] Downloading package stopwords to\n",
      "[nltk_data]     /Users/milpro/nltk_data...\n",
      "[nltk_data]   Package stopwords is already up-to-date!\n"
     ]
    },
    {
     "data": {
      "text/plain": [
       "True"
      ]
     },
     "execution_count": 5,
     "metadata": {},
     "output_type": "execute_result"
    }
   ],
   "source": [
    "nltk.download(\"stopwords\")"
   ]
  },
  {
   "cell_type": "code",
   "execution_count": 10,
   "metadata": {},
   "outputs": [
    {
     "ename": "AttributeError",
     "evalue": "'list' object has no attribute 'words'",
     "output_type": "error",
     "traceback": [
      "\u001b[0;31m---------------------------------------------------------------------------\u001b[0m",
      "\u001b[0;31mAttributeError\u001b[0m                            Traceback (most recent call last)",
      "\u001b[0;32m<ipython-input-10-779a32f29822>\u001b[0m in \u001b[0;36m<module>\u001b[0;34m()\u001b[0m\n\u001b[0;32m----> 1\u001b[0;31m \u001b[0mstopwords\u001b[0m \u001b[0;34m=\u001b[0m \u001b[0mset\u001b[0m\u001b[0;34m(\u001b[0m\u001b[0mstopwords\u001b[0m\u001b[0;34m.\u001b[0m\u001b[0mwords\u001b[0m\u001b[0;34m(\u001b[0m\u001b[0;34m'english'\u001b[0m\u001b[0;34m)\u001b[0m\u001b[0;34m)\u001b[0m \u001b[0;31m# get english stop words\u001b[0m\u001b[0;34m\u001b[0m\u001b[0m\n\u001b[0m\u001b[1;32m      2\u001b[0m \u001b[0;31m#print(stopwords)\u001b[0m\u001b[0;34m\u001b[0m\u001b[0;34m\u001b[0m\u001b[0m\n",
      "\u001b[0;31mAttributeError\u001b[0m: 'list' object has no attribute 'words'"
     ]
    }
   ],
   "source": [
    "stopwords = stopwords.words('english') # get english stop words\n",
    "print(stopwords)\n"
   ]
  },
  {
   "cell_type": "code",
   "execution_count": 7,
   "metadata": {},
   "outputs": [
    {
     "name": "stdout",
     "output_type": "stream",
     "text": [
      "['the', 'cat', 'is', \"n't\", 'on', 'the', 'table']\n"
     ]
    }
   ],
   "source": [
    "prova = \"the cat isn't on the table\"\n",
    "words = word_tokenize(prova)\n",
    "print(words)"
   ]
  },
  {
   "cell_type": "code",
   "execution_count": 8,
   "metadata": {},
   "outputs": [
    {
     "name": "stdout",
     "output_type": "stream",
     "text": [
      "['cat', \"n't\", 'table']\n"
     ]
    }
   ],
   "source": [
    "prova1 = [w for w in words if w.lower() not in stopwords]\n",
    "print(prova1)"
   ]
  },
  {
   "cell_type": "code",
   "execution_count": 24,
   "metadata": {},
   "outputs": [
    {
     "name": "stdout",
     "output_type": "stream",
     "text": [
      "['27', '2', 'Humble', 'May', '2016', 'Welcome', 'stay', 'private', 'room', 'queen', 'bed', 'detached', 'private', 'bathroom', 'second', 'floor', 'Another', 'private', 'bedroom', 'sofa', 'bed', 'available', 'additional', 'guests', '10', 'additional', 'guest.\\\\n10min', 'IAH', 'airport\\\\nAirport', 'pick-up/drop', 'available', '10/trip', '30.0201379199512', '-95.2939960042513', '2', 'Private', 'rooms/bathroom', '10min', 'IAH', 'airport', 'https', '//www.airbnb.com/rooms/18520444', 'location=Cleveland', '2C', '20TX']\n"
     ]
    }
   ],
   "source": [
    "with open(\"/Users/milpro/Desktop/Universita/ADM_Aris/HW3/doc_tsv/doc_1.tsv\", 'r') as f:\n",
    "    moby_raw = f.read()\n",
    "    #stop = set(stopwords.words('english'))\n",
    "    moby_tokens = word_tokenize(moby_raw)\n",
    "    text_no_stop_words_punct = [t for t in moby_tokens if t not in stopwords and t not in string.punctuation]\n",
    "\n",
    "    print(text_no_stop_words_punct)\n",
    "    \n",
    "#questo codice per stop words e punteggiatura non va bene e voglio\n",
    "#che lo applichi ad ogni file e che non crei una nuova stringa"
   ]
  },
  {
   "cell_type": "code",
   "execution_count": 71,
   "metadata": {},
   "outputs": [
    {
     "ename": "TypeError",
     "evalue": "write() argument must be str, not list",
     "output_type": "error",
     "traceback": [
      "\u001b[0;31m---------------------------------------------------------------------------\u001b[0m",
      "\u001b[0;31mTypeError\u001b[0m                                 Traceback (most recent call last)",
      "\u001b[0;32m<ipython-input-71-407b24c66f2d>\u001b[0m in \u001b[0;36m<module>\u001b[0;34m()\u001b[0m\n\u001b[1;32m      7\u001b[0m \u001b[0;34m\u001b[0m\u001b[0m\n\u001b[1;32m      8\u001b[0m \u001b[0mf\u001b[0m \u001b[0;34m=\u001b[0m \u001b[0mopen\u001b[0m\u001b[0;34m(\u001b[0m\u001b[0;34m\"/Users/milpro/Desktop/Universita/ADM_Aris/HW3/doc_tsv/doc_1.tsv\"\u001b[0m\u001b[0;34m,\u001b[0m \u001b[0;34m'w'\u001b[0m\u001b[0;34m)\u001b[0m\u001b[0;34m\u001b[0m\u001b[0m\n\u001b[0;32m----> 9\u001b[0;31m \u001b[0mf\u001b[0m\u001b[0;34m.\u001b[0m\u001b[0mwrite\u001b[0m\u001b[0;34m(\u001b[0m\u001b[0mtext\u001b[0m\u001b[0;34m)\u001b[0m\u001b[0;34m\u001b[0m\u001b[0m\n\u001b[0m",
      "\u001b[0;31mTypeError\u001b[0m: write() argument must be str, not list"
     ]
    }
   ],
   "source": [
    "#non funziona\n",
    "\n",
    "with open(\"/Users/milpro/Desktop/Universita/ADM_Aris/HW3/doc_tsv/doc_1.tsv\", 'r') as f:\n",
    "    moby_raw = f.read()\n",
    "    #stop = set(stopwords.words('english'))\n",
    "    moby_tokens = word_tokenize(moby_raw)\n",
    "    f.close()\n",
    "    text = [t for t in moby_tokens if t not in stopwords]\n",
    "\n",
    "f = open(\"/Users/milpro/Desktop/Universita/ADM_Aris/HW3/doc_tsv/doc_1.tsv\", 'w')\n",
    "f.write(text)\n"
   ]
  },
  {
   "cell_type": "code",
   "execution_count": 79,
   "metadata": {},
   "outputs": [],
   "source": [
    "#questo fa solo stopwords e lo fa applicandolo al file stesso  o creando un nuovo file\n",
    "with open(\"/Users/milpro/Desktop/Universita/ADM_Aris/HW3/doc_tsv/doc_1.tsv\", 'r') as file1:\n",
    "    line = file1.read() # Use this to read file content as a stream: \n",
    "    words = line.split()\n",
    "    file1.close()\n",
    "    for r in words: \n",
    "        if not r in stopwords:\n",
    "            \n",
    "            appendFile = open(\"/Users/milpro/Desktop/Universita/ADM_Aris/HW3/doc_tsv/doc_1.tsv\", '+w') \n",
    "            appendFile.write(\" \"+r) \n",
    "            appendFile.close() \n",
    "            "
   ]
  },
  {
   "cell_type": "code",
   "execution_count": 21,
   "metadata": {},
   "outputs": [
    {
     "name": "stdout",
     "output_type": "stream",
     "text": [
      "<_io.TextIOWrapper name='/Users/milpro/Desktop/Universita/ADM_Aris/HW3/doc_tsv/doc_1.tsv' mode='r' encoding='UTF-8'>\n",
      "<_io.TextIOWrapper name='/Users/milpro/Desktop/Universita/ADM_Aris/HW3/doc_tsv/doc_2.tsv' mode='r' encoding='UTF-8'>\n",
      "<_io.TextIOWrapper name='/Users/milpro/Desktop/Universita/ADM_Aris/HW3/doc_tsv/doc_3.tsv' mode='r' encoding='UTF-8'>\n",
      "<_io.TextIOWrapper name='/Users/milpro/Desktop/Universita/ADM_Aris/HW3/doc_tsv/doc_4.tsv' mode='r' encoding='UTF-8'>\n"
     ]
    }
   ],
   "source": [
    "for i in range(1,5):\n",
    "    with open(\"/Users/milpro/Desktop/Universita/ADM_Aris/HW3/doc_tsv/doc_\" + str(i) + \".tsv\", \"r\") as f:\n",
    "        print(f)"
   ]
  },
  {
   "cell_type": "code",
   "execution_count": null,
   "metadata": {},
   "outputs": [],
   "source": []
  }
 ],
 "metadata": {
  "kernelspec": {
   "display_name": "Python 3",
   "language": "python",
   "name": "python3"
  },
  "language_info": {
   "codemirror_mode": {
    "name": "ipython",
    "version": 3
   },
   "file_extension": ".py",
   "mimetype": "text/x-python",
   "name": "python",
   "nbconvert_exporter": "python",
   "pygments_lexer": "ipython3",
   "version": "3.7.0"
  }
 },
 "nbformat": 4,
 "nbformat_minor": 2
}
